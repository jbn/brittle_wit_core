{
 "cells": [
  {
   "cell_type": "markdown",
   "metadata": {},
   "source": [
    "# OAuth"
   ]
  },
  {
   "cell_type": "markdown",
   "metadata": {},
   "source": [
    "- Twitter uses an [OAuth 1.0a for user and application-only authentication](https://dev.twitter.com/oauth). Brittle Wit does not support application-only authentication. (It seemed like extra code complexity for an edge case easily-solved by using the application's twitter user as a user.) \n",
    "- It uses a nonce of 42 characters sampled over numbers and sensitive letters. This leads to $42^{62}$ possibilities which should be \"relatively random.\""
   ]
  },
  {
   "cell_type": "markdown",
   "metadata": {},
   "source": [
    "## Sample Authentication with `requests`"
   ]
  },
  {
   "cell_type": "code",
   "execution_count": null,
   "metadata": {
    "collapsed": true
   },
   "outputs": [],
   "source": []
  },
  {
   "cell_type": "code",
   "execution_count": 18,
   "metadata": {},
   "outputs": [],
   "source": [
    "from requests import request as _request\n",
    "from brittle_wit_core import (AppCredentials,\n",
    "                              obtain_request_token, \n",
    "                              extract_access_token, \n",
    "                              redirect_url, \n",
    "                              obtain_access_token,\n",
    "                              extract_request_token)\n",
    "\n",
    "def obfuscate(s):\n",
    "    return s[0] + \"*\"*(len(s)-1) if isinstance(s, str) else -1\n",
    "\n",
    "\n",
    "# Loads via TWITTER_APP_KEY, TWITTER_APP_SECRET environmental variables.\n",
    "APP_CRED = AppCredentials.load_from_env()"
   ]
  },
  {
   "cell_type": "code",
   "execution_count": 19,
   "metadata": {
    "collapsed": true
   },
   "outputs": [],
   "source": [
    "twitter_req, headers = obtain_request_token(APP_CRED)"
   ]
  },
  {
   "cell_type": "code",
   "execution_count": 25,
   "metadata": {},
   "outputs": [],
   "source": [
    "resp = _request(twitter_req.method, \n",
    "                twitter_req.url,             \n",
    "                params=twitter_req.params, \n",
    "                headers=headers)\n",
    "\n",
    "oauth_token, oauth_secret = extract_request_token(resp.status_code, resp.content.decode('utf8'))"
   ]
  },
  {
   "cell_type": "code",
   "execution_count": 26,
   "metadata": {},
   "outputs": [],
   "source": [
    "url = redirect_url(oauth_token)\n",
    "!open $url"
   ]
  },
  {
   "cell_type": "code",
   "execution_count": 41,
   "metadata": {},
   "outputs": [
    {
     "data": {
      "text/plain": [
       "{'oauth_token': '2*************************************************',\n",
       " 'oauth_token_secret': 'q********************************************',\n",
       " 'screen_name': 'p*******',\n",
       " 'user_id': -1,\n",
       " 'x_auth_expires': '0'}"
      ]
     },
     "execution_count": 41,
     "metadata": {},
     "output_type": "execute_result"
    }
   ],
   "source": [
    "PIN_FROM_BROWSER = '3230924'\n",
    "\n",
    "twitter_req, headers = obtain_access_token(APP_CRED, oauth_token, PIN_FROM_BROWSER)\n",
    "\n",
    "resp = _request(twitter_req.method, \n",
    "                twitter_req.url,             \n",
    "                params=twitter_req.params, \n",
    "                headers=headers)\n",
    "d = extract_access_token(resp.status_code, resp.content.decode('utf8'))\n",
    "\n",
    "d = {k: obfuscate(v) for k, v in d.items()}\n",
    "d"
   ]
  }
 ],
 "metadata": {
  "kernelspec": {
   "display_name": "Python 3",
   "language": "python",
   "name": "python3"
  },
  "language_info": {
   "codemirror_mode": {
    "name": "ipython",
    "version": 3
   },
   "file_extension": ".py",
   "mimetype": "text/x-python",
   "name": "python",
   "nbconvert_exporter": "python",
   "pygments_lexer": "ipython3",
   "version": "3.5.3"
  }
 },
 "nbformat": 4,
 "nbformat_minor": 2
}
